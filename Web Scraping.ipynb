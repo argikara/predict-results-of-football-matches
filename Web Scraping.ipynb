{
 "cells": [
  {
   "cell_type": "code",
   "execution_count": 1,
   "metadata": {},
   "outputs": [],
   "source": [
    "from bs4 import BeautifulSoup\n",
    "import requests\n",
    "import re \n",
    "import pandas as pd\n",
    "import numpy as np\n",
    "from time import sleep\n",
    "from datetime import datetime, timedelta\n",
    "from tqdm.notebook import tqdm\n",
    "import sys\n",
    "import time\n",
    "import datetime"
   ]
  },
  {
   "cell_type": "code",
   "execution_count": 2,
   "metadata": {},
   "outputs": [],
   "source": [
    "years = ['2015-2016', '2016-2017', '2017-2018', '2018-2019', '2019-2020', '2020-2021']"
   ]
  },
  {
   "cell_type": "code",
   "execution_count": 260,
   "metadata": {},
   "outputs": [],
   "source": [
    "matches = []\n",
    "url = \"https://fbref.com/en/comps/9/2015-2016/schedule/2015-2016-Premier-League-Scores-and-Fixtures\"\n",
    "headers={'User-Agent': ''}\n",
    "response = requests.get(url,timeout=15)\n",
    "soup = BeautifulSoup(response.content, \"html.parser\")\n",
    "if response.status_code == 200:\n",
    "    rows = soup.find(\"div\", {\"class\": \"table_container\"}).find_all('tr')\n",
    "    for i in range(1,len(rows)):\n",
    "        try:\n",
    "            matches.append(rows[i].find(\"td\", {\"class\": \"center\"}).find('a').get('href'))\n",
    "        except:\n",
    "            pass"
   ]
  },
  {
   "cell_type": "code",
   "execution_count": 270,
   "metadata": {},
   "outputs": [],
   "source": [
    "url = \"https://fbref.com/en/matches/df747efb/Bournemouth-Aston-Villa-August-8-2015-Premier-League\"\n",
    "headers={'User-Agent': ''}\n",
    "response = requests.get(url,timeout=15)"
   ]
  },
  {
   "cell_type": "code",
   "execution_count": 271,
   "metadata": {},
   "outputs": [
    {
     "name": "stdout",
     "output_type": "stream",
     "text": [
      "<Response [200]>\n"
     ]
    }
   ],
   "source": [
    "print(response)"
   ]
  },
  {
   "cell_type": "code",
   "execution_count": 272,
   "metadata": {},
   "outputs": [],
   "source": [
    "soup = BeautifulSoup(response.content, \"html.parser\")"
   ]
  },
  {
   "cell_type": "code",
   "execution_count": 198,
   "metadata": {},
   "outputs": [],
   "source": [
    "#home_team = soup.find(\"div\", {\"class\": \"scorebox\"}).find_all('a')[0].get_text().strip()\n",
    "#home_team"
   ]
  },
  {
   "cell_type": "code",
   "execution_count": 199,
   "metadata": {},
   "outputs": [],
   "source": [
    "#away_team = soup.find(\"div\", {\"class\": \"scorebox\"}).find_all('a')[4].get_text().strip()\n",
    "#away_team"
   ]
  },
  {
   "cell_type": "code",
   "execution_count": 200,
   "metadata": {},
   "outputs": [],
   "source": [
    "#home_team_goals = soup.find_all(\"div\", {\"class\": \"score\"})[0].get_text().strip()\n",
    "#home_team_goals"
   ]
  },
  {
   "cell_type": "code",
   "execution_count": 201,
   "metadata": {},
   "outputs": [],
   "source": [
    "#away_team_goals = soup.find_all(\"div\", {\"class\": \"score\"})[1].get_text().strip()\n",
    "#away_team_goals"
   ]
  },
  {
   "cell_type": "code",
   "execution_count": 204,
   "metadata": {},
   "outputs": [],
   "source": [
    "#home_team_Possession = soup.find(\"div\", {\"id\": \"team_stats\"}).find_all('tr')[2].find_all('strong')[0].get_text()[0:2]\n",
    "#home_team_Possession"
   ]
  },
  {
   "cell_type": "code",
   "execution_count": 205,
   "metadata": {},
   "outputs": [],
   "source": [
    "#away_team_Possession = soup.find(\"div\", {\"id\": \"team_stats\"}).find_all('tr')[2].find_all('strong')[1].get_text()[0:2]\n",
    "#away_team_Possession"
   ]
  },
  {
   "cell_type": "code",
   "execution_count": 206,
   "metadata": {},
   "outputs": [],
   "source": [
    "#home_team_total_passes = soup.find(\"div\", {\"id\": \"team_stats\"}).find_all('tr')[4].find_all('div')[1].get_text()[0:3]\n",
    "#home_team_total_passes"
   ]
  },
  {
   "cell_type": "code",
   "execution_count": 207,
   "metadata": {},
   "outputs": [],
   "source": [
    "#away_team_total_passes = soup.find(\"div\", {\"id\": \"team_stats\"}).find_all('tr')[4].find_all('div')[5].get_text()[7:11]\n",
    "#away_team_total_passes"
   ]
  },
  {
   "cell_type": "code",
   "execution_count": 208,
   "metadata": {},
   "outputs": [],
   "source": [
    "#home_team_total_shots = soup.find(\"div\", {\"id\": \"team_stats\"}).find_all('tr')[6].find_all('div')[1].get_text()[5:8]\n",
    "#home_team_total_shots"
   ]
  },
  {
   "cell_type": "code",
   "execution_count": 209,
   "metadata": {},
   "outputs": [],
   "source": [
    "#away_team_total_shots = soup.find(\"div\", {\"id\": \"team_stats\"}).find_all('tr')[6].find_all('div')[5].get_text()[12:14]\n",
    "#away_team_total_shots"
   ]
  },
  {
   "cell_type": "code",
   "execution_count": 210,
   "metadata": {},
   "outputs": [],
   "source": [
    "#home_team_total_shots_on_target = soup.find(\"div\", {\"id\": \"team_stats\"}).find_all('tr')[6].find_all('div')[1].get_text()[0:2]\n",
    "#home_team_total_shots_on_target"
   ]
  },
  {
   "cell_type": "code",
   "execution_count": 211,
   "metadata": {},
   "outputs": [],
   "source": [
    "#away_team_total_shots_on_target = soup.find(\"div\", {\"id\": \"team_stats\"}).find_all('tr')[6].find_all('div')[5].get_text()[7:9]\n",
    "#away_team_total_shots_on_target"
   ]
  },
  {
   "cell_type": "code",
   "execution_count": 212,
   "metadata": {},
   "outputs": [],
   "source": [
    "#home_team_fouls = soup.find(\"div\", {\"id\": \"team_stats_extra\"}).find_all('div')[0].find_all('div')[3].get_text()\n",
    "#home_team_fouls"
   ]
  },
  {
   "cell_type": "code",
   "execution_count": 213,
   "metadata": {},
   "outputs": [],
   "source": [
    "#away_team_fouls = soup.find(\"div\", {\"id\": \"team_stats_extra\"}).find_all('div')[0].find_all('div')[5].get_text()\n",
    "#away_team_fouls"
   ]
  },
  {
   "cell_type": "code",
   "execution_count": 214,
   "metadata": {},
   "outputs": [],
   "source": [
    "#home_team_crosses = soup.find(\"div\", {\"id\": \"team_stats_extra\"}).find_all('div')[0].find_all('div')[6].get_text()\n",
    "#home_team_crosses"
   ]
  },
  {
   "cell_type": "code",
   "execution_count": 215,
   "metadata": {},
   "outputs": [],
   "source": [
    "#away_team_crosses = soup.find(\"div\", {\"id\": \"team_stats_extra\"}).find_all('div')[0].find_all('div')[8].get_text()\n",
    "#away_team_crosses"
   ]
  },
  {
   "cell_type": "code",
   "execution_count": 216,
   "metadata": {},
   "outputs": [],
   "source": [
    "# df = pd.DataFrame([{\n",
    "#     \"home_team\": home_team,\n",
    "#     \"away_team\": away_team,\n",
    "#     \"home_team_goals\": home_team_goals,\n",
    "#     \"away_team_goals\": away_team_goals,\n",
    "#     \"home_team_Possession\": home_team_Possession,\n",
    "#     \"away_team_Possession\": away_team_Possession,\n",
    "#     \"home_team_total_passes\": home_team_Possession,\n",
    "#     \"away_team_total_passes\": away_team_Possession,\n",
    "#     \"home_team_total_shots\": home_team_Possession,\n",
    "#     \"away_team_total_shots\": away_team_Possession,\n",
    "#     \"home_team_total_shots_on_target\": home_team_Possession,\n",
    "#     \"away_team_total_shots_on_target\": away_team_Possession,\n",
    "#     \"home_team_fouls\": home_team_Possession,\n",
    "#     \"away_team_fouls\": away_team_Possession,\n",
    "#     \"home_team_crosses\": home_team_Possession,\n",
    "#     \"away_team_crosses\": away_team_Possession,\n",
    "# }])\n",
    "\n",
    "# df"
   ]
  },
  {
   "cell_type": "code",
   "execution_count": 217,
   "metadata": {},
   "outputs": [],
   "source": [
    "df = pd.DataFrame()\n",
    "\n",
    "def scrape(links,lst):\n",
    "    urlpattern = \"https://fbref.com/{}\"\n",
    "    url = urlpattern.format(links)\n",
    "    headers={'User-Agent': ''}\n",
    "    response = requests.get(url,timeout=15)\n",
    "    if response.status_code == 200:\n",
    "        soup = BeautifulSoup(response.content, \"html.parser\")    \n",
    "        lst = []\n",
    "        try:\n",
    "            home_team = soup.find(\"div\", {\"class\": \"scorebox\"}).find_all('a')[0].get_text().strip()\n",
    "        except:\n",
    "            home_team = np.nan \n",
    "\n",
    "        try:\n",
    "            away_team = soup.find(\"div\", {\"class\": \"scorebox\"}).find_all('a')[4].get_text().strip()\n",
    "        except:\n",
    "            away_team = np.nan\n",
    "\n",
    "        try:\n",
    "            home_team_goals = soup.find_all(\"div\", {\"class\": \"score\"})[0].get_text().strip()\n",
    "        except:\n",
    "            home_team_goals = np.nan\n",
    "\n",
    "        try:\n",
    "            away_team_goals = soup.find_all(\"div\", {\"class\": \"score\"})[1].get_text().strip()\n",
    "        except:\n",
    "            away_team_goals = np.nan\n",
    "\n",
    "        try:\n",
    "            home_team_Possession = soup.find(\"div\", {\"id\": \"team_stats\"}).find_all('tr')[2].find_all('strong')[0].get_text()[0:2]\n",
    "        except:\n",
    "            home_team_Possession = np.nan\n",
    "\n",
    "        try:\n",
    "            away_team_Possession = soup.find(\"div\", {\"id\": \"team_stats\"}).find_all('tr')[2].find_all('strong')[1].get_text()[0:2]\n",
    "        except:\n",
    "            away_team_Possession = np.nan\n",
    "\n",
    "        try:\n",
    "            home_team_total_passes = soup.find(\"div\", {\"id\": \"team_stats\"}).find_all('tr')[4].find_all('div')[1].get_text()[0:3]\n",
    "        except:\n",
    "            home_team_total_passes = np.nan\n",
    "\n",
    "        try:\n",
    "            away_team_total_passes = soup.find(\"div\", {\"id\": \"team_stats\"}).find_all('tr')[4].find_all('div')[5].get_text()[7:11]\n",
    "        except:\n",
    "            away_team_total_passes = np.nan\n",
    "\n",
    "        try:\n",
    "            home_team_total_shots = soup.find(\"div\", {\"id\": \"team_stats\"}).find_all('tr')[6].find_all('div')[1].get_text()[5]\n",
    "        except:\n",
    "            home_team_total_shots = np.nan\n",
    "\n",
    "        try:\n",
    "            away_team_total_shots = soup.find(\"div\", {\"id\": \"team_stats\"}).find_all('tr')[6].find_all('div')[5].get_text()[12:14]\n",
    "        except:\n",
    "            away_team_total_shots = np.nan\n",
    "\n",
    "        try:\n",
    "            home_team_total_shots_on_target = soup.find(\"div\", {\"id\": \"team_stats\"}).find_all('tr')[6].find_all('div')[1].get_text()[0]\n",
    "        except:\n",
    "            home_team_total_shots_on_target = np.nan\n",
    "\n",
    "        try:\n",
    "            away_team_total_shots_on_target = soup.find(\"div\", {\"id\": \"team_stats\"}).find_all('tr')[6].find_all('div')[5].get_text()[7]\n",
    "        except:\n",
    "            away_team_total_shots_on_target = np.nan\n",
    "\n",
    "        try:\n",
    "            home_team_fouls = soup.find(\"div\", {\"id\": \"team_stats_extra\"}).find_all('div')[0].find_all('div')[3].get_text()\n",
    "        except:\n",
    "            home_team_fouls = np.nan\n",
    "\n",
    "        try:\n",
    "            away_team_fouls = soup.find(\"div\", {\"id\": \"team_stats_extra\"}).find_all('div')[0].find_all('div')[5].get_text()\n",
    "        except:\n",
    "            away_team_fouls = np.nan\n",
    "\n",
    "        try:\n",
    "            home_team_crosses = soup.find(\"div\", {\"id\": \"team_stats_extra\"}).find_all('div')[0].find_all('div')[6].get_text()\n",
    "        except:\n",
    "            home_team_crosses = np.nan\n",
    "\n",
    "        try:\n",
    "            away_team_crosses = soup.find(\"div\", {\"id\": \"team_stats_extra\"}).find_all('div')[0].find_all('div')[8].get_text()\n",
    "        except:\n",
    "            away_team_crosses = np.nan\n",
    "\n",
    "\n",
    "\n",
    "\n",
    "        temp = {\n",
    "                \"home_team\": home_team,\n",
    "                \"away_team\": away_team,\n",
    "                \"home_team_goals\": home_team_goals,\n",
    "                \"away_team_goals\": away_team_goals,\n",
    "                \"home_team_Possession\": home_team_Possession,\n",
    "                \"away_team_Possession\": away_team_Possession,\n",
    "                \"home_team_total_passes\": home_team_total_passes,\n",
    "                \"away_team_total_passes\": away_team_total_passes,\n",
    "                \"home_team_total_shots_on_target\": home_team_total_shots_on_target,\n",
    "                \"away_team_total_shots_on_target\": away_team_total_shots_on_target,\n",
    "                \"home_team_fouls\": home_team_fouls,\n",
    "                \"away_team_fouls\": away_team_fouls,\n",
    "                \"home_team_crosses\": home_team_crosses,\n",
    "                \"away_team_crosses\": away_team_crosses,\n",
    "        }\n",
    "        lst.append(temp)\n",
    "        time.sleep(10)\n",
    "\n",
    "#             df = df.append(temp, ignore_index=True)\n",
    "                \n",
    "    else:\n",
    "        print('Scraper is down!')\n",
    "        time.sleep(10)\n",
    "            \n",
    "    return pd.DataFrame(lst)"
   ]
  },
  {
   "cell_type": "code",
   "execution_count": 218,
   "metadata": {},
   "outputs": [],
   "source": [
    "df = pd.DataFrame()"
   ]
  },
  {
   "cell_type": "code",
   "execution_count": 219,
   "metadata": {},
   "outputs": [],
   "source": [
    "lst = []"
   ]
  },
  {
   "cell_type": "code",
   "execution_count": 220,
   "metadata": {},
   "outputs": [],
   "source": [
    "for link in matches:\n",
    "    temp_df = scrape(link,lst)\n",
    "    df = pd.concat([df, temp_df])"
   ]
  },
  {
   "cell_type": "code",
   "execution_count": 231,
   "metadata": {},
   "outputs": [],
   "source": [
    "# df_2015_2016 = df1\n",
    "# df_2016_2017 = df2\n",
    "# df_2017_2018 = df3\n",
    "# df_2018_2019 = df4\n",
    "# df_2019_2020 = df5\n",
    "# df_2020_2021 = df6"
   ]
  },
  {
   "cell_type": "code",
   "execution_count": 296,
   "metadata": {},
   "outputs": [],
   "source": [
    "data = pd.concat([df_2015_2016, df_2016_2017, df_2017_2018, df_2018_2019, df_2019_2020, df_2020_2021], ignore_index=True)"
   ]
  },
  {
   "cell_type": "code",
   "execution_count": 297,
   "metadata": {},
   "outputs": [],
   "source": [
    "data.to_csv(r'C:\\Users\\argi\\Desktop\\διπλωματικη\\data.csv', index = False)"
   ]
  }
 ],
 "metadata": {
  "kernelspec": {
   "display_name": "Python 3",
   "language": "python",
   "name": "python3"
  },
  "language_info": {
   "codemirror_mode": {
    "name": "ipython",
    "version": 3
   },
   "file_extension": ".py",
   "mimetype": "text/x-python",
   "name": "python",
   "nbconvert_exporter": "python",
   "pygments_lexer": "ipython3",
   "version": "3.8.5"
  }
 },
 "nbformat": 4,
 "nbformat_minor": 4
}
