{
 "cells": [
  {
   "cell_type": "code",
   "execution_count": 1,
   "metadata": {},
   "outputs": [],
   "source": [
    "import pandas as pd\n",
    "import pandas_profiling\n",
    "from pandas_profiling import ProfileReport\n",
    "import numpy as np"
   ]
  },
  {
   "cell_type": "code",
   "execution_count": 2,
   "metadata": {},
   "outputs": [],
   "source": [
    "#load the data from web scraping\n",
    "df = pd.read_csv('data.csv')"
   ]
  },
  {
   "cell_type": "code",
   "execution_count": 3,
   "metadata": {},
   "outputs": [],
   "source": [
    "#create new columns\n",
    "df[\"year\"] = np.nan\n",
    "df[\"win\"] = np.nan\n",
    "\n",
    "df = df[['year', 'home_team', 'away_team', 'home_team_goals', 'away_team_goals', 'win', 'home_team_Possession', 'away_team_Possession'\n",
    "        , 'home_team_total_passes', 'away_team_total_passes', 'home_team_total_shots_on_target', 'away_team_total_shots_on_target', 'home_team_fouls'\n",
    "        , 'away_team_fouls', 'home_team_crosses', 'away_team_crosses']]"
   ]
  },
  {
   "cell_type": "code",
   "execution_count": 6,
   "metadata": {},
   "outputs": [],
   "source": [
    "#drop the duplicates\n",
    "df.drop(df.index[1096:1099], inplace=True)"
   ]
  },
  {
   "cell_type": "code",
   "execution_count": 7,
   "metadata": {},
   "outputs": [],
   "source": [
    "df.drop(df.index[1100:1120], inplace=True)"
   ]
  },
  {
   "cell_type": "code",
   "execution_count": 8,
   "metadata": {},
   "outputs": [],
   "source": [
    "df.drop(df.index[939:1095], inplace=True)"
   ]
  },
  {
   "cell_type": "code",
   "execution_count": 9,
   "metadata": {},
   "outputs": [],
   "source": [
    "df = df.reset_index(drop=True)"
   ]
  },
  {
   "cell_type": "code",
   "execution_count": 10,
   "metadata": {},
   "outputs": [],
   "source": [
    "for i in range(0,2280):\n",
    "    if i<380:\n",
    "        df.loc[i, 'year'] = '2015-2016'\n",
    "\n",
    "    elif i >= 380 and i< 760:\n",
    "        df.loc[i, 'year'] = '2016-2017'\n",
    "\n",
    "    elif i>=760 and i<1140:\n",
    "         df.loc[i, 'year'] = '2017-2018'\n",
    "\n",
    "    elif i>=1140 and i<1520:\n",
    "         df.loc[i, 'year'] = '2018-2019'\n",
    "\n",
    "    elif i>=1520 and i<1900:\n",
    "         df.loc[i, 'year'] = '2019-2020'\n",
    "\n",
    "    else:\n",
    "         df.loc[i, 'year'] = '2020-2021'"
   ]
  },
  {
   "cell_type": "code",
   "execution_count": 11,
   "metadata": {},
   "outputs": [],
   "source": [
    "for i in range(0,len(df)):\n",
    "    if  df['home_team_goals'][i]>df['away_team_goals'][i]:\n",
    "        df.loc[i, 'win']='H'\n",
    "        \n",
    "    elif  df['home_team_goals'][i] == df['away_team_goals'][i]:\n",
    "        df.loc[i, 'win']='D'\n",
    "        \n",
    "    else:\n",
    "        df.loc[i, 'win']='A'"
   ]
  },
  {
   "cell_type": "code",
   "execution_count": 12,
   "metadata": {},
   "outputs": [],
   "source": [
    "list_away_team_total_shots_on_target = [16, 20, 35, 111, 114, 138, 190, 195, 214, 235, 241, 243, 302, 309, 328, 336, 337, 379, 381, 390, 405, 425, 450, 452,\n",
    "484, 506, 509, 515, 580, 617, 652, 657, 701, 705, 731, 738, 742, 762, 787, 788, 806, 807, 811, 843, 846, 855, 871,\n",
    "874, 888, 895, 962, 983, 984, 986, 1025, 1051, 1162, 1405, 1409, 2063, 1014, 1023, 1035, 1048, 1068, 1070, 1108, 1145, 1203, 1226,\n",
    "                                       1230, 1241, 1259, 1272, 1273, 1291, 1292, 1294, 1305, 1359, 1367, 1370, 1383, 1384,\n",
    "                                       1418, 1460, 1488, 1503, 1540, 1569, 1588, 1602, 1622, 1624, 1671, 1681, 1683, 1703,\n",
    "                                       1718, 1754, 1755, 1779, 1804, 1809, 1819, 1824, 1826, 1858, 1870, 1875, 1876, 1884,\n",
    "                                       1887, 1916, 1923, 1924, 1928, 1930, 1952, 2008, 2012, 2036, 2077, 2084, 2090, 2101,\n",
    "                                       2114, 2161, 2178, 2182, 2184, 2201, 2213, 2245, 2266]"
   ]
  },
  {
   "cell_type": "code",
   "execution_count": 13,
   "metadata": {},
   "outputs": [],
   "source": [
    "for i in list_away_team_total_shots_on_target:\n",
    "    df.loc[i, 'away_team_total_shots_on_target'] = 0"
   ]
  },
  {
   "cell_type": "code",
   "execution_count": 14,
   "metadata": {},
   "outputs": [],
   "source": [
    "df.loc[1051, 'away_team_total_passes'] = 197"
   ]
  },
  {
   "cell_type": "code",
   "execution_count": 15,
   "metadata": {
    "scrolled": true
   },
   "outputs": [],
   "source": [
    "df['away_team_total_passes'] = df['away_team_total_passes'].astype(str).astype(int)"
   ]
  },
  {
   "cell_type": "code",
   "execution_count": 16,
   "metadata": {},
   "outputs": [],
   "source": [
    "df['away_team_total_shots_on_target'] = df['away_team_total_shots_on_target'].astype(str).astype(int)"
   ]
  },
  {
   "cell_type": "code",
   "execution_count": 17,
   "metadata": {},
   "outputs": [],
   "source": [
    "df = df.reset_index(drop=True)"
   ]
  },
  {
   "cell_type": "code",
   "execution_count": 18,
   "metadata": {},
   "outputs": [],
   "source": [
    "df[\"home_avg_goal\"] = np.nan #average goal for home team \n",
    "df[\"away_avg_goal\"] = np.nan #average goal for away team \n",
    "df[\"home_avg_pos\"] = np.nan #average possession for home team\n",
    "df[\"away_avg_pos\"] = np.nan #average possession for away team\n",
    "df[\"home_avg_pas\"] = np.nan #average passes for home team\n",
    "df[\"away_avg_pas\"] = np.nan #average passes for away team\n",
    "df[\"Home_avg_SoT\"] = np.nan #average shots on target for home team \n",
    "df[\"Away_avg_SoT\"] = np.nan #average shots on target for away team \n",
    "df[\"Home_avg_Fouls\"] = np.nan #average fouls for home team  \n",
    "df[\"Away_avg_Fouls\"] = np.nan #average fouls for away team \n",
    "df[\"Home_avg_Cros\"] = np.nan #average crosses for home team  \n",
    "df[\"Away_avg_Cros\"] = np.nan #average crosses for away team  \n",
    "df[\"home_Value\"] = np.nan #market value for home team\n",
    "df[\"away_Value\"] = np.nan #market value for away team\n",
    "df[\"home_points\"] = np.nan #points for home team\n",
    "df[\"away_points\"] = np.nan #points for away team\n",
    "df[\"home_team_home_points\"] = np.nan #points for home team for home games\n",
    "df[\"away_team_away_points\"] = np.nan #points for away team for away games\n",
    "df[\"last_5_home_games_points\"] = np.nan #points for home team for last 5 games\n",
    "df[\"last_5_away_games_points\"] = np.nan #points for away team for last 5 games\n",
    "df[\"home_team_home_avg_goals\"] = np.nan #average goals for home team in home games\n",
    "df[\"away_team_away_avg_goals\"] = np.nan #average goals for away team in away games"
   ]
  },
  {
   "cell_type": "code",
   "execution_count": 19,
   "metadata": {},
   "outputs": [],
   "source": [
    "TeamList = df.home_team.unique().tolist()"
   ]
  },
  {
   "cell_type": "code",
   "execution_count": 20,
   "metadata": {},
   "outputs": [],
   "source": [
    "avg_list_home = ['home_avg_goal', 'home_avg_pos', 'home_avg_pas', 'Home_avg_SoT', 'Home_avg_Fouls', 'Home_avg_Cros']\n",
    "\n",
    "avg_list_away = ['away_avg_goal', 'away_avg_pos', 'away_avg_pas', 'Away_avg_SoT', 'Away_avg_Fouls',  'Away_avg_Cros']\n",
    "\n",
    "list_home = ['home_team_goals', 'home_team_Possession', 'home_team_total_passes', 'home_team_total_shots_on_target',\n",
    "             'home_team_fouls', 'home_team_crosses']\n",
    "\n",
    "list_away = ['away_team_goals', 'away_team_Possession', 'away_team_total_passes', 'away_team_total_shots_on_target',\n",
    "             'away_team_fouls', 'away_team_crosses']"
   ]
  },
  {
   "cell_type": "code",
   "execution_count": 21,
   "metadata": {},
   "outputs": [],
   "source": [
    "list_year = ['2015-2016', '2016-2017', '2017-2018', '2018-2019', '2019-2020', '2020-2021']"
   ]
  },
  {
   "cell_type": "code",
   "execution_count": 22,
   "metadata": {
    "scrolled": true
   },
   "outputs": [
    {
     "name": "stdout",
     "output_type": "stream",
     "text": [
      "1\n",
      "1\n",
      "1\n",
      "1\n",
      "1\n",
      "1\n"
     ]
    }
   ],
   "source": [
    "# create columns with the average statistics until the match that they will play\n",
    "\n",
    "for m in list_year:\n",
    "    print(1)\n",
    "    for j in TeamList:\n",
    "        for k in range(0, len(avg_list_home)):\n",
    "            c=0\n",
    "            v=0\n",
    "            for i in range(0,2280):\n",
    "                x=df.loc[i]\n",
    "                y=x.to_frame().T\n",
    "                if y['home_team'].str.contains(j).any() and y['year'].str.contains(m).any():\n",
    "                    if v>0:\n",
    "                        df.loc[i, avg_list_home[k]]=c/v\n",
    "                        v=v+1\n",
    "                        c=c+y[list_home[k]].item()\n",
    "                    else:\n",
    "                        df.loc[i, avg_list_home[k]]=c\n",
    "                        v=v+1\n",
    "                        c=c+y[list_home[k]].item()\n",
    "                elif  y['away_team'].str.contains(j).any() and y['year'].str.contains(m).any():   \n",
    "                    if v>0:\n",
    "                        df.loc[i, avg_list_away[k]]=c/v\n",
    "                        v=v+1\n",
    "                        c=c+y[list_away[k]].item()\n",
    "                    else:\n",
    "                        df.loc[i, avg_list_away[k]]=c\n",
    "                        v=v+1\n",
    "                        c=c+y[list_away[k]].item()"
   ]
  },
  {
   "cell_type": "code",
   "execution_count": 23,
   "metadata": {},
   "outputs": [],
   "source": [
    "team_value = [('Manchester United', 726.05), ('Burnley', 127.40), ('Chelsea', 817.80),\n",
    "              ('Everton', 392.55), ('Leicester City', 511.05), ('Watford', 145.80), ('Norwich City', 139.00),\n",
    "              ('Newcastle United', 296.70), ('Tottenham Hotspur', 595.80), ('Liverpool', 911.20),\n",
    "              ('Aston Villa', 446.40), ('Crystal Palace', 245.10), ('Leeds United', 293.10),\n",
    "              ('Manchester City', 928.80), ('Brighton & Hove Albion', 293.90), ('Southampton', 248.55),\n",
    "              ('Wolverhampton Wanderers', 351.35), ('Arsenal', 533.50), ('West Ham United', 352.25),\n",
    "              ('Bournemouth', 160.40), ('Stoke City', 230.20), ('West Bromwich Albion', 180.20),\n",
    "              ('Sunderland', 256.60), ('Swansea City', 298.60), ('Hull City', 318.60), ('Middlesbrough', 269.60),\n",
    "              ('Huddersfield Town', 169.60), ('Fulham', 398.60), ('Cardiff City', 175.60),\n",
    "              ('Sheffield United', 335.60)]"
   ]
  },
  {
   "cell_type": "code",
   "execution_count": 24,
   "metadata": {},
   "outputs": [],
   "source": [
    "#create column with the market value for each team\n",
    "\n",
    "for l in range(0, len(team_value)):\n",
    "    for i in range(0,2280):\n",
    "            x=df.loc[i]\n",
    "            y=x.to_frame().T\n",
    "            \n",
    "            if y['home_team'].str.contains(team_value[l][0]).any():\n",
    "                df.loc[i, 'home_Value']= team_value[l][1]\n",
    "                \n",
    "            elif y['away_team'].str.contains(team_value[l][0]).any():   \n",
    "                df.loc[i, 'away_Value']= team_value[l][1]"
   ]
  },
  {
   "cell_type": "code",
   "execution_count": 25,
   "metadata": {
    "scrolled": true
   },
   "outputs": [],
   "source": [
    "#create column with the points that each team has after every game\n",
    "\n",
    "for m in list_year:\n",
    "    for j in TeamList:\n",
    "        c=0\n",
    "        for i in range(0,2280):\n",
    "            x=df.loc[i]\n",
    "            y=x.to_frame().T\n",
    "\n",
    "            if y['home_team'].str.contains(j).any() and y['win'].str.contains('H').any() and y['year'].str.contains(m).any():\n",
    "                df.loc[i, \"home_points\"] = c\n",
    "                c=c+3\n",
    "\n",
    "\n",
    "            elif y['home_team'].str.contains(j).any() and y['win'].str.contains('A').any() and y['year'].str.contains(m).any():\n",
    "                df.loc[i, \"home_points\"] = c\n",
    "                c=c+0\n",
    "\n",
    "\n",
    "            elif y['home_team'].str.contains(j).any() and y['win'].str.contains('D').any() and y['year'].str.contains(m).any():\n",
    "                df.loc[i, \"home_points\"] = c\n",
    "                c=c+1\n",
    "\n",
    "\n",
    "            elif y['away_team'].str.contains(j).any() and y['win'].str.contains('A').any() and y['year'].str.contains(m).any():\n",
    "                df.loc[i, \"away_points\"] = c\n",
    "                c=c+3\n",
    "\n",
    "\n",
    "            elif y['away_team'].str.contains(j).any() and y['win'].str.contains('H').any() and y['year'].str.contains(m).any():\n",
    "                df.loc[i, \"away_points\"] = c\n",
    "                c=c+0\n",
    "\n",
    "\n",
    "            elif y['away_team'].str.contains(j).any() and y['win'].str.contains('D').any() and y['year'].str.contains(m).any():\n",
    "                df.loc[i, \"away_points\"] = c\n",
    "                c=c+1"
   ]
  },
  {
   "cell_type": "code",
   "execution_count": 26,
   "metadata": {
    "scrolled": true
   },
   "outputs": [],
   "source": [
    "#create column for the points that have the home team in home matches\n",
    "\n",
    "for m in list_year:\n",
    "    for j in TeamList:\n",
    "        c=0\n",
    "        for i in range(0,2280):\n",
    "            x=df.loc[i]\n",
    "            y=x.to_frame().T\n",
    "            if y['home_team'].str.contains(j).any() and y['win'].str.contains('H').any() and y['year'].str.contains(m).any():\n",
    "                df.loc[i, \"home_team_home_points\"]= c\n",
    "                c=c+3\n",
    "\n",
    "\n",
    "            elif y['home_team'].str.contains(j).any() and y['win'].str.contains('A').any() and y['year'].str.contains(m).any():\n",
    "                df.loc[i, \"home_team_home_points\"] = c\n",
    "                c=c+0\n",
    "\n",
    "\n",
    "            elif y['home_team'].str.contains(j).any() and y['win'].str.contains('D').any() and y['year'].str.contains(m).any():\n",
    "                df.loc[i, \"home_team_home_points\"] = c\n",
    "                c=c+1\n",
    "\n"
   ]
  },
  {
   "cell_type": "code",
   "execution_count": 27,
   "metadata": {},
   "outputs": [],
   "source": [
    "for m in list_year:\n",
    "    for j in TeamList:\n",
    "        c=0\n",
    "        v=0\n",
    "        for i in range(0,2280):           \n",
    "            x=df.loc[i]\n",
    "            y=x.to_frame().T\n",
    "            if y['home_team'].str.contains(j).any() and y['year'].str.contains(m).any():\n",
    "                if v>0:\n",
    "                    df.loc[i, \"home_team_home_avg_goals\"] = c/v\n",
    "                    c=c+df[\"home_team_goals\"][i].item()\n",
    "                    v=v+1\n",
    "                else:\n",
    "                    df.loc[i, \"home_team_home_avg_goals\"] = c\n",
    "                    c=c+df[\"home_team_goals\"][i].item()\n",
    "                    v=v+1"
   ]
  },
  {
   "cell_type": "code",
   "execution_count": 28,
   "metadata": {},
   "outputs": [],
   "source": [
    "for m in list_year:\n",
    "    for j in TeamList:\n",
    "        c=0\n",
    "        v=0\n",
    "        for i in range(0,2280):\n",
    "            x=df.loc[i]\n",
    "            y=x.to_frame().T\n",
    "            if y['away_team'].str.contains(j).any() and y['year'].str.contains(m).any():\n",
    "                if v>0:\n",
    "                    df.loc[i, \"away_team_away_avg_goals\"] = c/v\n",
    "                    c=c+df[\"away_team_goals\"][i].item()\n",
    "                    v=v+1\n",
    "                else:\n",
    "                    df.loc[i, \"away_team_away_avg_goals\"] = c\n",
    "                    c=c+df[\"away_team_goals\"][i].item()\n",
    "                    v=v+1"
   ]
  },
  {
   "cell_type": "code",
   "execution_count": 29,
   "metadata": {
    "scrolled": false
   },
   "outputs": [],
   "source": [
    "#create column for the points that have the away team in away matches\n",
    "\n",
    "for m in list_year:\n",
    "    for j in TeamList:\n",
    "        c=0\n",
    "        for i in range(0,2280):\n",
    "            x=df.loc[i]\n",
    "            y=x.to_frame().T\n",
    "            if y['away_team'].str.contains(j).any() and y['win'].str.contains('A').any() and y['year'].str.contains(m).any():\n",
    "                df.loc[i, \"away_team_away_points\"] = c\n",
    "                c=c+3\n",
    "\n",
    "            elif y['away_team'].str.contains(j).any() and y['win'].str.contains('H').any() and y['year'].str.contains(m).any():\n",
    "                df.loc[i, \"away_team_away_points\"] = c\n",
    "                c=c+0\n",
    "\n",
    "            elif y['away_team'].str.contains(j).any() and y['win'].str.contains('D').any() and y['year'].str.contains(m).any():\n",
    "                df.loc[i, \"away_team_away_points\"] = c\n",
    "                c=c+1"
   ]
  },
  {
   "cell_type": "code",
   "execution_count": 30,
   "metadata": {
    "scrolled": true
   },
   "outputs": [],
   "source": [
    "#create column with the points of the last 5 games for each team \n",
    "\n",
    "for m in list_year:\n",
    "    for j in TeamList:\n",
    "        c=0\n",
    "        h=0\n",
    "        for i in range(0,2280):\n",
    "            x=df.loc[i]\n",
    "            y=x.to_frame().T\n",
    "            if h<5:   \n",
    "                if y['home_team'].str.contains(j).any() and y['win'].str.contains('H').any() and y['year'].str.contains(m).any():\n",
    "                    df.loc[i, \"last_5_home_games_points\"] = c\n",
    "                    c=c+3\n",
    "                    h=h+1\n",
    "                    p=3\n",
    "                elif y['home_team'].str.contains(j).any() and y['win'].str.contains('A').any() and y['year'].str.contains(m).any():\n",
    "                    df.loc[i, \"last_5_home_games_points\"] = c\n",
    "                    c=c+0\n",
    "                    h=h+1\n",
    "                    p=0\n",
    "                elif y['home_team'].str.contains(j).any() and y['win'].str.contains('D').any() and y['year'].str.contains(m).any():\n",
    "                    df.loc[i, \"last_5_home_games_points\"] = c\n",
    "                    c=c+1\n",
    "                    h=h+1\n",
    "                    p=1\n",
    "                elif y['away_team'].str.contains(j).any() and y['win'].str.contains('A').any() and y['year'].str.contains(m).any():\n",
    "                    df.loc[i, \"last_5_away_games_points\"] = c\n",
    "                    c=c+3\n",
    "                    h=h+1\n",
    "                    p=3\n",
    "                elif y['away_team'].str.contains(j).any() and y['win'].str.contains('H').any() and y['year'].str.contains(m).any():\n",
    "                    df.loc[i, \"last_5_away_games_points\"] = c\n",
    "                    c=c+0\n",
    "                    h=h+1\n",
    "                    p=0\n",
    "                elif y['away_team'].str.contains(j).any() and y['win'].str.contains('D').any() and y['year'].str.contains(m).any():\n",
    "                    df.loc[i, \"last_5_away_games_points\"] = c\n",
    "                    c=c+1\n",
    "                    h=h+1\n",
    "                    p=1\n",
    "            else:\n",
    "                if y['home_team'].str.contains(j).any() and y['win'].str.contains('H').any() and y['year'].str.contains(m).any():\n",
    "                    df.loc[i, \"last_5_home_games_points\"] = c\n",
    "                    c=c+3-p\n",
    "                    h=h+1\n",
    "                    p=3\n",
    "                elif y['home_team'].str.contains(j).any() and y['win'].str.contains('A').any() and y['year'].str.contains(m).any():\n",
    "                    df.loc[i, \"last_5_home_games_points\"] = c\n",
    "                    c=c+0-p\n",
    "                    h=h+1\n",
    "                    p=0\n",
    "                elif y['home_team'].str.contains(j).any() and y['win'].str.contains('D').any() and y['year'].str.contains(m).any():\n",
    "                    df.loc[i, \"last_5_home_games_points\"] = c\n",
    "                    c=c+1-p\n",
    "                    h=h+1\n",
    "                    p=1\n",
    "                elif y['away_team'].str.contains(j).any() and y['win'].str.contains('A').any() and y['year'].str.contains(m).any():\n",
    "                    df.loc[i, \"last_5_away_games_points\"] = c\n",
    "                    c=c+3-p\n",
    "                    h=h+1\n",
    "                    p=3\n",
    "                elif y['away_team'].str.contains(j).any() and y['win'].str.contains('H').any() and y['year'].str.contains(m).any():\n",
    "                    df.loc[i, \"last_5_away_games_points\"] = c\n",
    "                    c=c+0-p\n",
    "                    h=h+1\n",
    "                    p=0\n",
    "                elif y['away_team'].str.contains(j).any() and y['win'].str.contains('D').any() and y['year'].str.contains(m).any():\n",
    "                    df.loc[i, \"last_5_away_games_points\"] = c\n",
    "                    c=c+1-p\n",
    "                    h=h+1\n",
    "                    p=1"
   ]
  },
  {
   "cell_type": "code",
   "execution_count": 31,
   "metadata": {},
   "outputs": [],
   "source": [
    "df['win'] = df['win'].replace(['H','D','A'],[1,2,3])"
   ]
  },
  {
   "cell_type": "code",
   "execution_count": 32,
   "metadata": {
    "scrolled": true
   },
   "outputs": [],
   "source": [
    "df = df.drop(['home_team_goals','away_team_goals','home_team_Possession','away_team_Possession',\n",
    "              'home_team_total_passes','away_team_total_passes','home_team_total_shots_on_target',\n",
    "              'away_team_total_shots_on_target','home_team_fouls','away_team_fouls','home_team_crosses',\n",
    "              'away_team_crosses'], axis=1)"
   ]
  },
  {
   "cell_type": "code",
   "execution_count": 35,
   "metadata": {},
   "outputs": [],
   "source": [
    "for i in range(0, len(df)):\n",
    "    df.loc[i, \"home_avg_pos\"] = df['home_avg_pos'][i]/100\n",
    "    df.loc[i, \"away_avg_pos\"] = df['away_avg_pos'][i]/100"
   ]
  }
 ],
 "metadata": {
  "kernelspec": {
   "display_name": "Python 3",
   "language": "python",
   "name": "python3"
  },
  "language_info": {
   "codemirror_mode": {
    "name": "ipython",
    "version": 3
   },
   "file_extension": ".py",
   "mimetype": "text/x-python",
   "name": "python",
   "nbconvert_exporter": "python",
   "pygments_lexer": "ipython3",
   "version": "3.8.5"
  }
 },
 "nbformat": 4,
 "nbformat_minor": 4
}
